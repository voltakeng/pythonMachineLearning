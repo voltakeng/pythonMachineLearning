{
 "cells": [
  {
   "cell_type": "code",
   "execution_count": 41,
   "metadata": {},
   "outputs": [],
   "source": [
    "from scipy.io import loadmat \n",
    "import numpy as np \n",
    "import matplotlib.pyplot as plt \n",
    "from sklearn.linear_model import SGDClassifier\n",
    "from sklearn.model_selection import cross_val_score\n",
    "from sklearn.metrics import confusion_matrix\n",
    "from sklearn.model_selection import cross_val_predict\n",
    "import itertools\n",
    "from sklearn.metrics import classification_report\n",
    "from sklearn.metrics import accuracy_score"
   ]
  },
  {
   "cell_type": "code",
   "execution_count": 42,
   "metadata": {},
   "outputs": [],
   "source": [
    "mnist_raw = loadmat(\"datasets/mnist-original.mat\")\n",
    "mnist = {\n",
    "    \"data\":mnist_raw[\"data\"].T,\n",
    "    \"target\":mnist_raw[\"label\"][0]\n",
    "}"
   ]
  },
  {
   "cell_type": "code",
   "execution_count": 43,
   "metadata": {},
   "outputs": [],
   "source": [
    "x_train, x_test = mnist[\"data\"][:60000], mnist[\"data\"][60001:70000]\n",
    "y_train, y_test = mnist[\"target\"][:60000], mnist[\"target\"][60001:70000]"
   ]
  },
  {
   "cell_type": "code",
   "execution_count": 44,
   "metadata": {},
   "outputs": [
    {
     "data": {
      "text/plain": [
       "<matplotlib.image.AxesImage at 0x1f28582c970>"
      ]
     },
     "execution_count": 44,
     "metadata": {},
     "output_type": "execute_result"
    },
    {
     "data": {
      "image/png": "[encoded data removed]",
      "text/plain": [
       "<Figure size 432x288 with 1 Axes>"
      ]
     },
     "metadata": {
      "needs_background": "light"
     },
     "output_type": "display_data"
    }
   ],
   "source": [
    "#จะดูว่า ตำแหน่งที่5000 อยู่ในclass0 หรือไม่\n",
    "#เลือกตำแหน่งที่จะtest\n",
    "predict_number = 5000  \n",
    "plt.imshow(x_test[predict_number].reshape(28,28),cmap=plt.cm.binary,interpolation=\"nearest\")"
   ]
  },
  {
   "cell_type": "code",
   "execution_count": 45,
   "metadata": {},
   "outputs": [],
   "source": [
    "#จะดูว่า ตำแหน่งที่5000 อยู่ในclass0 หรือไม่\n",
    "#สร้างclass0\n",
    "y_train_0 = (y_train==0)\n",
    "y_test_0 = (y_test==0)"
   ]
  },
  {
   "cell_type": "code",
   "execution_count": 46,
   "metadata": {},
   "outputs": [
    {
     "data": {
      "text/plain": [
       "SGDClassifier()"
      ]
     },
     "execution_count": 46,
     "metadata": {},
     "output_type": "execute_result"
    }
   ],
   "source": [
    "sgd_clf = SGDClassifier()\n",
    "sgd_clf.fit(x_train,y_train_0)"
   ]
  },
  {
   "cell_type": "code",
   "execution_count": 47,
   "metadata": {},
   "outputs": [
    {
     "name": "stdout",
     "output_type": "stream",
     "text": [
      "Actually =  4.0\n",
      "False\n"
     ]
    }
   ],
   "source": [
    "#ตอบ False เพราะ 4 ไม่ได้อยู่ในกลุ่ม 0\n",
    "print(\"Actually = \",y_test[predict_number])\n",
    "print( sgd_clf.predict([x_test[predict_number]])[0] )"
   ]
  },
  {
   "cell_type": "code",
   "execution_count": 48,
   "metadata": {},
   "outputs": [
    {
     "name": "stdout",
     "output_type": "stream",
     "text": [
      "Actually =  0.0\n",
      "True\n"
     ]
    },
    {
     "data": {
      "image/png": "[encoded data removed]",
      "text/plain": [
       "<Figure size 432x288 with 1 Axes>"
      ]
     },
     "metadata": {
      "needs_background": "light"
     },
     "output_type": "display_data"
    }
   ],
   "source": [
    "#ตอบ True เพราะ 0 อยู่ในกลุ่ม 0\n",
    "predict_number = 0\n",
    "plt.imshow(x_test[predict_number].reshape(28,28),cmap=plt.cm.binary,interpolation=\"nearest\")\n",
    "print(\"Actually = \",y_test[predict_number])\n",
    "print( sgd_clf.predict([x_test[predict_number]])[0] )"
   ]
  },
  {
   "cell_type": "code",
   "execution_count": 49,
   "metadata": {},
   "outputs": [
    {
     "name": "stdout",
     "output_type": "stream",
     "text": [
      "[0.957   0.96745 0.97795]\n"
     ]
    }
   ],
   "source": [
    "#cross-validation test ได้เฉพาะscore\n",
    "score = cross_val_score(sgd_clf,x_train,y_train_0,cv=3,scoring=\"accuracy\")\n",
    "print(score)"
   ]
  },
  {
   "cell_type": "code",
   "execution_count": 50,
   "metadata": {},
   "outputs": [
    {
     "name": "stdout",
     "output_type": "stream",
     "text": [
      "[[51629  2448]\n",
      " [  263  5660]]\n"
     ]
    }
   ],
   "source": [
    "#confusion-matrix test ได้ผลการทดลอง\n",
    "y_train_pred = cross_val_predict(sgd_clf,x_train,y_train_0,cv=3)\n",
    "cm = confusion_matrix(y_train_0,y_train_pred)\n",
    "print(cm)"
   ]
  },
  {
   "cell_type": "code",
   "execution_count": 51,
   "metadata": {},
   "outputs": [
    {
     "data": {
      "image/png": "[encoded data removed]",
      "text/plain": [
       "<Figure size 432x288 with 2 Axes>"
      ]
     },
     "metadata": {
      "needs_background": "light"
     },
     "output_type": "display_data"
    }
   ],
   "source": [
    "def displayConfusionMatrix(cm,cmap=plt.cm.GnBu):\n",
    "    classes=[\"Other Number\",\"Number 0\"]\n",
    "    plt.imshow(cm,interpolation='nearest',cmap=cmap)\n",
    "    plt.title(\"Confusion Matrix\")\n",
    "    plt.colorbar()\n",
    "    trick_marks=np.arange(len(classes))\n",
    "    plt.xticks(trick_marks,classes)\n",
    "    plt.yticks(trick_marks,classes)\n",
    "    thresh=cm.max()/2\n",
    "    for i , j in itertools.product(range(cm.shape[0]),range(cm.shape[1])):\n",
    "        plt.text(j,i,format(cm[i,j],'d'),\n",
    "        horizontalalignment='center',\n",
    "        color='white' if cm[i,j]>thresh else 'black')\n",
    "    plt.tight_layout()\n",
    "    plt.ylabel('Actually')\n",
    "    plt.xlabel('Prediction')\n",
    "    plt.show()\n",
    "\n",
    "plt.figure()\n",
    "displayConfusionMatrix(cm)"
   ]
  },
  {
   "cell_type": "code",
   "execution_count": 54,
   "metadata": {},
   "outputs": [
    {
     "name": "stdout",
     "output_type": "stream",
     "text": [
      "              precision    recall  f1-score   support\n",
      "\n",
      "Other Number       1.00      0.99      0.99      9020\n",
      "    Number 0       0.92      0.97      0.94       979\n",
      "\n",
      "    accuracy                           0.99      9999\n",
      "   macro avg       0.96      0.98      0.97      9999\n",
      "weighted avg       0.99      0.99      0.99      9999\n",
      "\n",
      "Accuracy Score =  98.87988798879887\n"
     ]
    }
   ],
   "source": [
    "y_test_pred = sgd_clf.predict(x_test)\n",
    "\n",
    "classes=['Other Number','Number 0']\n",
    "print(classification_report(y_test_0,y_test_pred,target_names=classes))\n",
    "print(\"Accuracy Score = \",accuracy_score(y_test_0,y_test_pred)*100) #[(tp+tn)/total*100]"
   ]
  }
 ],
 "metadata": {
  "interpreter": {
   "hash": "fa25b802e3d24b0cf62c2ba469c0ddf9cc8a7b55bd32e52c053715e2e947c156"
  },
  "kernelspec": {
   "display_name": "Python 3.8.10 64-bit ('sklearnenv': venv)",
   "language": "python",
   "name": "python3"
  },
  "language_info": {
   "codemirror_mode": {
    "name": "ipython",
    "version": 3
   },
   "file_extension": ".py",
   "mimetype": "text/x-python",
   "name": "python",
   "nbconvert_exporter": "python",
   "pygments_lexer": "ipython3",
   "version": "3.8.10"
  },
  "orig_nbformat": 4
 },
 "nbformat": 4,
 "nbformat_minor": 2
}
