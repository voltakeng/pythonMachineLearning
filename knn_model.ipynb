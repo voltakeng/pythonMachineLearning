{
 "cells": [
  {
   "cell_type": "code",
   "execution_count": 72,
   "metadata": {},
   "outputs": [],
   "source": [
    "from sklearn.datasets import load_iris \n",
    "from sklearn.model_selection import train_test_split\n",
    "from sklearn.neighbors import KNeighborsClassifier\n",
    "\n",
    "from sklearn.metrics import classification_report\n",
    "from sklearn.metrics import accuracy_score \n",
    " \n",
    "from sklearn.model_selection import cross_val_predict \n",
    "from sklearn.metrics import confusion_matrix \n",
    "import itertools "
   ]
  },
  {
   "cell_type": "code",
   "execution_count": 73,
   "metadata": {},
   "outputs": [],
   "source": [
    "iris_dataset = load_iris()\n",
    "x_train, x_test = train_test_split(iris_dataset['data'],test_size=0.4,random_state=0)\n",
    "y_train, y_test = train_test_split(iris_dataset['target'],test_size=0.4,random_state=0)"
   ]
  },
  {
   "cell_type": "code",
   "execution_count": 74,
   "metadata": {},
   "outputs": [],
   "source": [
    "#model\n",
    "knn = KNeighborsClassifier()"
   ]
  },
  {
   "cell_type": "code",
   "execution_count": 75,
   "metadata": {},
   "outputs": [
    {
     "data": {
      "text/plain": [
       "KNeighborsClassifier()"
      ]
     },
     "execution_count": 75,
     "metadata": {},
     "output_type": "execute_result"
    }
   ],
   "source": [
    "#training \n",
    "knn.fit(x_train,y_train)"
   ]
  },
  {
   "cell_type": "code",
   "execution_count": 76,
   "metadata": {},
   "outputs": [
    {
     "name": "stdout",
     "output_type": "stream",
     "text": [
      "[6.  2.2 4.  1. ]\n",
      "1\n",
      "versicolor\n",
      "1\n",
      "versicolor\n"
     ]
    }
   ],
   "source": [
    "#predictมาต้องตอบได้ตามนี้\n",
    "print(x_test[1])\n",
    "print(y_test[1])\n",
    "print(iris_dataset['target_names'][y_test[1]])\n",
    "#prediction\n",
    "predict = knn.predict(x_test[1].reshape(1,4))\n",
    "print(predict[0])\n",
    "print(iris_dataset['target_names'][predict][0])\n"
   ]
  },
  {
   "cell_type": "code",
   "execution_count": 77,
   "metadata": {},
   "outputs": [
    {
     "name": "stdout",
     "output_type": "stream",
     "text": [
      "[2 1 0 2 0 2 0 1 1 1 2 1 1 1 1 0 1 1 0 0 2 1 0 0 1 0 0 1 1 0 2 1 0 2 2 1 0\n",
      " 2 1 1 2 0 2 0 0 1 2 2 2 2 1 2 1 1 2 2 1 2 1 2]\n",
      "[2 1 0 2 0 2 0 1 1 1 2 1 1 1 1 0 1 1 0 0 2 1 0 0 2 0 0 1 1 0 2 1 0 2 2 1 0\n",
      " 1 1 1 2 0 2 0 0 1 2 2 2 2 1 2 1 1 2 2 2 2 1 2]\n"
     ]
    }
   ],
   "source": [
    "#หรือ\n",
    "y_predict = knn.predict(x_test)\n",
    "print(y_predict)\n",
    "print(y_test)"
   ]
  },
  {
   "cell_type": "markdown",
   "metadata": {},
   "source": []
  },
  {
   "cell_type": "code",
   "execution_count": 78,
   "metadata": {},
   "outputs": [
    {
     "name": "stdout",
     "output_type": "stream",
     "text": [
      "              precision    recall  f1-score   support\n",
      "\n",
      "      setosa       1.00      1.00      1.00        16\n",
      "  versicolor       0.92      0.96      0.94        23\n",
      "   virginica       0.95      0.90      0.93        21\n",
      "\n",
      "    accuracy                           0.95        60\n",
      "   macro avg       0.96      0.95      0.95        60\n",
      "weighted avg       0.95      0.95      0.95        60\n",
      "\n"
     ]
    }
   ],
   "source": [
    "#ทำclassification_report\n",
    "print(classification_report(y_test,y_predict,target_names=iris_dataset['target_names']))"
   ]
  },
  {
   "cell_type": "code",
   "execution_count": 79,
   "metadata": {},
   "outputs": [
    {
     "name": "stdout",
     "output_type": "stream",
     "text": [
      "ความแม่นยำ =  95.0\n"
     ]
    }
   ],
   "source": [
    "#ทำaccuracy_score (ขึ้นกับknn)\n",
    "print(\"ความแม่นยำ = \",accuracy_score(y_test,y_predict)*100)"
   ]
  },
  {
   "cell_type": "markdown",
   "metadata": {},
   "source": []
  }
 ],
 "metadata": {
  "interpreter": {
   "hash": "fa25b802e3d24b0cf62c2ba469c0ddf9cc8a7b55bd32e52c053715e2e947c156"
  },
  "kernelspec": {
   "display_name": "Python 3.8.10 64-bit ('sklearnenv': venv)",
   "language": "python",
   "name": "python3"
  },
  "language_info": {
   "codemirror_mode": {
    "name": "ipython",
    "version": 3
   },
   "file_extension": ".py",
   "mimetype": "text/x-python",
   "name": "python",
   "nbconvert_exporter": "python",
   "pygments_lexer": "ipython3",
   "version": "3.8.10"
  },
  "orig_nbformat": 4
 },
 "nbformat": 4,
 "nbformat_minor": 2
}
