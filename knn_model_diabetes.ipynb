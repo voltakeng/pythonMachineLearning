{
 "cells": [
  {
   "cell_type": "code",
   "execution_count": 632,
   "metadata": {},
   "outputs": [],
   "source": [
    "import pandas as pd \n",
    "import numpy as np\n",
    "\n",
    "from sklearn.model_selection import train_test_split\n",
    "from sklearn.neighbors import KNeighborsClassifier \n",
    "\n",
    "from sklearn.metrics import accuracy_score \n",
    "from sklearn.metrics import classification_report \n",
    "\n",
    "from sklearn.model_selection import cross_val_predict \n",
    "from sklearn.metrics import confusion_matrix \n",
    "import itertools\n",
    "import matplotlib.pyplot as plt\n"
   ]
  },
  {
   "cell_type": "code",
   "execution_count": 633,
   "metadata": {},
   "outputs": [],
   "source": [
    "#create df\n",
    "df_x = pd.read_csv(\"datasets/diabetes.csv\").drop(\"Outcome\",axis=1)\n",
    "x = np.array(df_x)\n",
    "#print(x)\n",
    "\n",
    "df_y = pd.read_csv(\"datasets/diabetes.csv\",usecols=[\"Outcome\"])\n",
    "y = np.array(df_y.Outcome)\n",
    "#print(y)"
   ]
  },
  {
   "cell_type": "code",
   "execution_count": 634,
   "metadata": {},
   "outputs": [],
   "source": [
    "x_train, x_test = train_test_split(x,test_size=0.8,random_state=0)\n",
    "y_train, y_test = train_test_split(y,test_size=0.8,random_state=0)"
   ]
  },
  {
   "cell_type": "code",
   "execution_count": 635,
   "metadata": {},
   "outputs": [],
   "source": [
    "#model training \n",
    "knn = KNeighborsClassifier(n_neighbors=19)\n",
    "knn.fit(x_train,y_train)\n",
    "y_predict = knn.predict(x_test)"
   ]
  },
  {
   "cell_type": "code",
   "execution_count": 636,
   "metadata": {},
   "outputs": [
    {
     "name": "stdout",
     "output_type": "stream",
     "text": [
      "0.6991869918699187\n"
     ]
    }
   ],
   "source": [
    "test_score = knn.score(x_test,y_test)\n",
    "print(test_score)"
   ]
  },
  {
   "cell_type": "code",
   "execution_count": 637,
   "metadata": {},
   "outputs": [
    {
     "name": "stdout",
     "output_type": "stream",
     "text": [
      "1\n",
      "1\n"
     ]
    }
   ],
   "source": [
    "#test prediction with one case\n",
    "print(y_test[0])\n",
    "predict_one = knn.predict(x_test[0:1])\n",
    "print(predict_one[0])"
   ]
  },
  {
   "cell_type": "code",
   "execution_count": 638,
   "metadata": {},
   "outputs": [
    {
     "name": "stdout",
     "output_type": "stream",
     "text": [
      "accuracy score =  69.91869918699187\n",
      "              precision    recall  f1-score   support\n",
      "\n",
      "     ไม่เป็น       0.69      0.96      0.81       396\n",
      "        เป็น       0.77      0.22      0.34       219\n",
      "\n",
      "    accuracy                           0.70       615\n",
      "   macro avg       0.73      0.59      0.57       615\n",
      "weighted avg       0.72      0.70      0.64       615\n",
      "\n"
     ]
    }
   ],
   "source": [
    "#show accuracy score and classification_report\n",
    "print(\"accuracy score = \",accuracy_score(y_test,y_predict)*100)\n",
    "print(classification_report(y_test,y_predict,target_names=[\"ไม่เป็น\",\"เป็น\"]))"
   ]
  }
 ],
 "metadata": {
  "interpreter": {
   "hash": "fa25b802e3d24b0cf62c2ba469c0ddf9cc8a7b55bd32e52c053715e2e947c156"
  },
  "kernelspec": {
   "display_name": "Python 3.8.10 64-bit ('sklearnenv': venv)",
   "language": "python",
   "name": "python3"
  },
  "language_info": {
   "codemirror_mode": {
    "name": "ipython",
    "version": 3
   },
   "file_extension": ".py",
   "mimetype": "text/x-python",
   "name": "python",
   "nbconvert_exporter": "python",
   "pygments_lexer": "ipython3",
   "version": "3.8.10"
  },
  "orig_nbformat": 4
 },
 "nbformat": 4,
 "nbformat_minor": 2
}
